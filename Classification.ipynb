{
 "cells": [
  {
   "cell_type": "markdown",
   "metadata": {},
   "source": [
    "# Classification"
   ]
  },
  {
   "cell_type": "markdown",
   "metadata": {},
   "source": [
    "### Dataset"
   ]
  },
  {
   "cell_type": "code",
   "execution_count": 1,
   "metadata": {},
   "outputs": [],
   "source": [
    "from sklearn.datasets import load_wine\n",
    "\n",
    "dataset = load_wine()"
   ]
  },
  {
   "cell_type": "code",
   "execution_count": 2,
   "metadata": {},
   "outputs": [
    {
     "name": "stdout",
     "output_type": "stream",
     "text": [
      "data 178\n",
      "target 178\n",
      "target_names 3\n",
      "DESCR 3482\n",
      "feature_names 13\n"
     ]
    }
   ],
   "source": [
    "for key, value in dataset.items():\n",
    "    print(key, len(value))"
   ]
  },
  {
   "cell_type": "code",
   "execution_count": 3,
   "metadata": {},
   "outputs": [
    {
     "name": "stdout",
     "output_type": "stream",
     "text": [
      "Wine Data Database\n",
      "====================\n",
      "\n",
      "Notes\n",
      "-----\n",
      "Data Set Characteristics:\n",
      "    :Number of Instances: 178 (50 in each of three classes)\n",
      "    :Number of Attributes: 13 numeric, predictive attributes and the class\n",
      "    :Attribute Information:\n",
      " \t\t- 1) Alcohol\n",
      " \t\t- 2) Malic acid\n",
      " \t\t- 3) Ash\n",
      "\t\t- 4) Alcalinity of ash  \n",
      " \t\t- 5) Magnesium\n",
      "\t\t- 6) Total phenols\n",
      " \t\t- 7) Flavanoids\n",
      " \t\t- 8) Nonflavanoid phenols\n",
      " \t\t- 9) Proanthocyanins\n",
      "\t\t- 10)Color intensity\n",
      " \t\t- 11)Hue\n",
      " \t\t- 12)OD280/OD315 of diluted wines\n",
      " \t\t- 13)Proline\n",
      "        \t- class:\n",
      "                - class_0\n",
      "                - class_1\n",
      "                - class_2\n",
      "\t\t\n",
      "    :Summary Statistics:\n",
      "    \n",
      "    ============================= ==== ===== ======= =====\n",
      "                                   Min   Max   Mean     SD\n",
      "    ============================= ==== ===== ======= =====\n",
      "    Alcohol:                      11.0  14.8    13.0   0.8\n",
      "    Malic Acid:                   0.74  5.80    2.34  1.12\n",
      "    Ash:                          1.36  3.23    2.36  0.27\n",
      "    Alcalinity of Ash:            10.6  30.0    19.5   3.3\n",
      "    Magnesium:                    70.0 162.0    99.7  14.3\n",
      "    Total Phenols:                0.98  3.88    2.29  0.63\n",
      "    Flavanoids:                   0.34  5.08    2.03  1.00\n",
      "    Nonflavanoid Phenols:         0.13  0.66    0.36  0.12\n",
      "    Proanthocyanins:              0.41  3.58    1.59  0.57\n",
      "    Colour Intensity:              1.3  13.0     5.1   2.3\n",
      "    Hue:                          0.48  1.71    0.96  0.23\n",
      "    OD280/OD315 of diluted wines: 1.27  4.00    2.61  0.71\n",
      "    Proline:                       278  1680     746   315\n",
      "    ============================= ==== ===== ======= =====\n",
      "\n",
      "    :Missing Attribute Values: None\n",
      "    :Class Distribution: class_0 (59), class_1 (71), class_2 (48)\n",
      "    :Creator: R.A. Fisher\n",
      "    :Donor: Michael Marshall (MARSHALL%PLU@io.arc.nasa.gov)\n",
      "    :Date: July, 1988\n",
      "\n",
      "This is a copy of UCI ML Wine recognition datasets.\n",
      "https://archive.ics.uci.edu/ml/machine-learning-databases/wine/wine.data\n",
      "\n",
      "The data is the results of a chemical analysis of wines grown in the same\n",
      "region in Italy by three different cultivators. There are thirteen different\n",
      "measurements taken for different constituents found in the three types of\n",
      "wine.\n",
      "\n",
      "Original Owners: \n",
      "\n",
      "Forina, M. et al, PARVUS - \n",
      "An Extendible Package for Data Exploration, Classification and Correlation. \n",
      "Institute of Pharmaceutical and Food Analysis and Technologies,\n",
      "Via Brigata Salerno, 16147 Genoa, Italy.\n",
      "\n",
      "Citation:\n",
      "\n",
      "Lichman, M. (2013). UCI Machine Learning Repository\n",
      "[http://archive.ics.uci.edu/ml]. Irvine, CA: University of California,\n",
      "School of Information and Computer Science. \n",
      "\n",
      "References\n",
      "----------\n",
      "(1) \n",
      "S. Aeberhard, D. Coomans and O. de Vel, \n",
      "Comparison of Classifiers in High Dimensional Settings, \n",
      "Tech. Rep. no. 92-02, (1992), Dept. of Computer Science and Dept. of \n",
      "Mathematics and Statistics, James Cook University of North Queensland. \n",
      "(Also submitted to Technometrics). \n",
      "\n",
      "The data was used with many others for comparing various \n",
      "classifiers. The classes are separable, though only RDA \n",
      "has achieved 100% correct classification. \n",
      "(RDA : 100%, QDA 99.4%, LDA 98.9%, 1NN 96.1% (z-transformed data)) \n",
      "(All results using the leave-one-out technique) \n",
      "\n",
      "(2) \n",
      "S. Aeberhard, D. Coomans and O. de Vel, \n",
      "\"THE CLASSIFICATION PERFORMANCE OF RDA\" \n",
      "Tech. Rep. no. 92-01, (1992), Dept. of Computer Science and Dept. of \n",
      "Mathematics and Statistics, James Cook University of North Queensland. \n",
      "(Also submitted to Journal of Chemometrics). \n",
      "\n"
     ]
    }
   ],
   "source": [
    "print(dataset['DESCR'])"
   ]
  },
  {
   "cell_type": "code",
   "execution_count": 4,
   "metadata": {},
   "outputs": [
    {
     "name": "stdout",
     "output_type": "stream",
     "text": [
      "(array([1.32e+01, 1.78e+00, 2.14e+00, 1.12e+01, 1.00e+02, 2.65e+00,\n",
      "       2.76e+00, 2.60e-01, 1.28e+00, 4.38e+00, 1.05e+00, 3.40e+00,\n",
      "       1.05e+03]), 0)\n",
      "(array([1.221e+01, 1.190e+00, 1.750e+00, 1.680e+01, 1.510e+02, 1.850e+00,\n",
      "       1.280e+00, 1.400e-01, 2.500e+00, 2.850e+00, 1.280e+00, 3.070e+00,\n",
      "       7.180e+02]), 1)\n",
      "(array([1.251e+01, 1.240e+00, 2.250e+00, 1.750e+01, 8.500e+01, 2.000e+00,\n",
      "       5.800e-01, 6.000e-01, 1.250e+00, 5.450e+00, 7.500e-01, 1.510e+00,\n",
      "       6.500e+02]), 2)\n"
     ]
    }
   ],
   "source": [
    "for index, datum in enumerate(zip(dataset['data'], dataset['target'])):\n",
    "    if index in [1, 69, 134]:\n",
    "        print(datum)"
   ]
  },
  {
   "cell_type": "markdown",
   "metadata": {},
   "source": [
    "### Data splitting"
   ]
  },
  {
   "cell_type": "code",
   "execution_count": 5,
   "metadata": {},
   "outputs": [],
   "source": [
    "import numpy as np\n",
    "from sklearn.model_selection import train_test_split\n",
    "\n",
    "X = np.asarray(dataset['data'])\n",
    "y = np.asarray(dataset['target'])\n",
    "\n",
    "X_train, X_test, y_train, y_test = train_test_split(X, y, test_size=0.33)"
   ]
  },
  {
   "cell_type": "markdown",
   "metadata": {},
   "source": [
    "### K-nearest neighbors"
   ]
  },
  {
   "cell_type": "code",
   "execution_count": 6,
   "metadata": {},
   "outputs": [
    {
     "name": "stdout",
     "output_type": "stream",
     "text": [
      "K-nearest neighbors\n",
      "\n",
      "3 neighbors: 0.77966\n",
      "3 neighbors + scaling: 0.94915\n",
      "\n",
      "7 neighbors: 0.77966\n",
      "7 neighbors + scaling: 0.98305\n",
      "\n",
      "11 neighbors: 0.81356\n",
      "11 neighbors + scaling: 1.00000\n"
     ]
    }
   ],
   "source": [
    "from sklearn.neighbors import KNeighborsClassifier\n",
    "from sklearn.preprocessing import StandardScaler\n",
    "from sklearn.pipeline import make_pipeline\n",
    "\n",
    "#Models\n",
    "neigh_3 = KNeighborsClassifier(n_neighbors=3)\n",
    "neigh_3_scaling = make_pipeline(StandardScaler(), \n",
    "                                 KNeighborsClassifier(n_neighbors=3))\n",
    "neigh_7 = KNeighborsClassifier(n_neighbors=7)\n",
    "neigh_7_scaling = make_pipeline(StandardScaler(), \n",
    "                                 KNeighborsClassifier(n_neighbors=7))\n",
    "neigh_11 = KNeighborsClassifier(n_neighbors=11)\n",
    "neigh_11_scaling = make_pipeline(StandardScaler(), \n",
    "                                 KNeighborsClassifier(n_neighbors=11))\n",
    "\n",
    "#Fitting\n",
    "neigh_3.fit(X_train, y_train)\n",
    "neigh_3_scaling.fit(X_train, y_train)\n",
    "neigh_7.fit(X_train, y_train)\n",
    "neigh_7_scaling.fit(X_train, y_train)\n",
    "neigh_11.fit(X_train, y_train)\n",
    "neigh_11_scaling.fit(X_train, y_train)\n",
    "\n",
    "#Score\n",
    "print(\"K-nearest neighbors\\n\")\n",
    "print(\"3 neighbors: {:.5f}\".format(neigh_3.score(X_test, y_test)))\n",
    "print(\"3 neighbors + scaling: {:.5f}\\n\".format(neigh_3_scaling.score(X_test, y_test)))\n",
    "print(\"7 neighbors: {:.5f}\".format(neigh_7.score(X_test, y_test)))\n",
    "print(\"7 neighbors + scaling: {:.5f}\\n\".format(neigh_7_scaling.score(X_test, y_test)))\n",
    "print(\"11 neighbors: {:.5f}\".format(neigh_11.score(X_test, y_test)))\n",
    "print(\"11 neighbors + scaling: {:.5f}\".format(neigh_11_scaling.score(X_test, y_test)))"
   ]
  },
  {
   "cell_type": "markdown",
   "metadata": {},
   "source": [
    "### Naive Bayes"
   ]
  },
  {
   "cell_type": "code",
   "execution_count": 7,
   "metadata": {},
   "outputs": [
    {
     "name": "stdout",
     "output_type": "stream",
     "text": [
      "Naive Bayes: 0.98305\n"
     ]
    }
   ],
   "source": [
    "from sklearn.naive_bayes import GaussianNB\n",
    "\n",
    "#Model\n",
    "Gauss = GaussianNB()\n",
    "\n",
    "#Fitting\n",
    "Gauss.fit(X_train, y_train)\n",
    "\n",
    "#Score\n",
    "print(\"Naive Bayes: {:.5f}\".format(Gauss.score(X_test, y_test)))"
   ]
  },
  {
   "cell_type": "markdown",
   "metadata": {},
   "source": [
    "### Decision tree"
   ]
  },
  {
   "cell_type": "code",
   "execution_count": 8,
   "metadata": {},
   "outputs": [
    {
     "name": "stdout",
     "output_type": "stream",
     "text": [
      "Decision tree\n",
      "\n",
      "Tree: 0.86441\n",
      "Tree_random (1): 0.88136\n",
      "Tree_random (2): 0.93220\n",
      "Tree_random (3): 0.91525\n"
     ]
    }
   ],
   "source": [
    "from sklearn.tree import DecisionTreeClassifier\n",
    "\n",
    "#Models\n",
    "tree = DecisionTreeClassifier()\n",
    "tree_random_1 = DecisionTreeClassifier(splitter='random')\n",
    "tree_random_2 = DecisionTreeClassifier(splitter='random')\n",
    "tree_random_3 = DecisionTreeClassifier(splitter='random')\n",
    "\n",
    "#Fitting\n",
    "tree.fit(X_train, y_train)\n",
    "tree_random_1.fit(X_train, y_train)\n",
    "tree_random_2.fit(X_train, y_train)\n",
    "tree_random_3.fit(X_train, y_train)\n",
    "\n",
    "#Score\n",
    "print(\"Decision tree\\n\")\n",
    "print(\"Tree: {:.5f}\".format(tree.score(X_test, y_test)))\n",
    "print(\"Tree_random (1): {:.5f}\".format(tree_random_1.score(X_test, y_test)))\n",
    "print(\"Tree_random (2): {:.5f}\".format(tree_random_2.score(X_test, y_test)))\n",
    "print(\"Tree_random (3): {:.5f}\".format(tree_random_3.score(X_test, y_test)))"
   ]
  },
  {
   "cell_type": "markdown",
   "metadata": {},
   "source": [
    "### SVM "
   ]
  },
  {
   "cell_type": "code",
   "execution_count": 9,
   "metadata": {},
   "outputs": [
    {
     "name": "stdout",
     "output_type": "stream",
     "text": [
      "SVM\n",
      "\n",
      "Sigmoid: 0.38983\n",
      "Sigmoid (scaling): 0.98305\n",
      "Sigmoid (scaling + PCA): 0.84746\n",
      "\n",
      "RBF: 0.40678\n",
      "RBF (scaling): 0.98305\n",
      "RBF (scaling + PCA): 0.94915\n",
      "\n",
      "Linear: 0.96610\n",
      "Linear (scaling): 0.98305\n",
      "Linear (scaling + PCA): 0.94915\n",
      "\n",
      "Poly-3: 0.96610\n",
      "Poly-3 (scaling): 0.96610\n",
      "Poly-3 (scaling + PCA): 0.94915\n"
     ]
    }
   ],
   "source": [
    "from sklearn.svm import SVC\n",
    "from sklearn.decomposition import PCA\n",
    "\n",
    "#Models\n",
    "SVM_sigm = SVC(kernel='sigmoid')\n",
    "SVM_sigm_scaling = make_pipeline(StandardScaler(), SVC(kernel='sigmoid'))\n",
    "SVM_sigm_scaling_PCA = make_pipeline(StandardScaler(), \n",
    "                              PCA(n_components=2), SVC(kernel='sigmoid'))\n",
    "\n",
    "SVM_rbf = SVC(kernel='rbf')\n",
    "SVM_rbf_scaling = make_pipeline(StandardScaler(), SVC(kernel='rbf'))\n",
    "SVM_rbf_scaling_PCA = make_pipeline(StandardScaler(), \n",
    "                              PCA(n_components=2), SVC(kernel='rbf'))\n",
    "\n",
    "SVM_linear = SVC(kernel='linear')\n",
    "SVM_linear_scaling = make_pipeline(StandardScaler(), SVC(kernel='linear'))\n",
    "SVM_linear_scaling_PCA = make_pipeline(StandardScaler(), \n",
    "                                 PCA(n_components=2), SVC(kernel='linear'))\n",
    "\n",
    "\n",
    "SVM_poly_3 = SVC(kernel='poly', degree=3)\n",
    "SVM_poly_3_scaling = make_pipeline(StandardScaler(), SVC(kernel='poly'))\n",
    "SVM_poly_3_scaling_PCA = make_pipeline(StandardScaler(), \n",
    "                                 PCA(n_components=2), \n",
    "                                 SVC(kernel='poly', degree=3))\n",
    "\n",
    "#Fitting\n",
    "SVM_sigm.fit(X_train, y_train)\n",
    "SVM_sigm_scaling.fit(X_train, y_train)\n",
    "SVM_sigm_scaling_PCA.fit(X_train, y_train)\n",
    "\n",
    "SVM_rbf.fit(X_train, y_train)\n",
    "SVM_rbf_scaling.fit(X_train, y_train)\n",
    "SVM_rbf_scaling_PCA.fit(X_train, y_train)\n",
    "\n",
    "SVM_linear.fit(X_train, y_train)\n",
    "SVM_linear_scaling.fit(X_train, y_train)\n",
    "SVM_linear_scaling_PCA.fit(X_train, y_train)\n",
    "\n",
    "SVM_poly_3.fit(X_train, y_train)\n",
    "SVM_poly_3_scaling.fit(X_train, y_train)\n",
    "SVM_poly_3_scaling_PCA.fit(X_train, y_train)\n",
    "\n",
    "#Score\n",
    "print(\"SVM\\n\")\n",
    "print(\"Sigmoid: {:.5f}\".format(SVM_sigm.score(X_test, y_test)))\n",
    "print(\"Sigmoid (scaling): {:.5f}\".format(SVM_sigm_scaling.score(X_test, y_test)))\n",
    "print(\"Sigmoid (scaling + PCA): {:.5f}\\n\".format(SVM_sigm_scaling_PCA.score(X_test, y_test)))\n",
    "\n",
    "print(\"RBF: {:.5f}\".format(SVM_rbf.score(X_test, y_test)))\n",
    "print(\"RBF (scaling): {:.5f}\".format(SVM_rbf_scaling.score(X_test, y_test)))\n",
    "print(\"RBF (scaling + PCA): {:.5f}\\n\".format(SVM_rbf_scaling_PCA.score(X_test, y_test)))\n",
    "\n",
    "print(\"Linear: {:.5f}\".format(SVM_linear.score(X_test, y_test)))\n",
    "print(\"Linear (scaling): {:.5f}\".format(SVM_linear_scaling.score(X_test, y_test)))\n",
    "print(\"Linear (scaling + PCA): {:.5f}\\n\".format(SVM_linear_scaling_PCA.score(X_test, y_test)))\n",
    "\n",
    "print(\"Poly-3: {:.5f}\".format(SVM_poly_3.score(X_test, y_test)))\n",
    "print(\"Poly-3 (scaling): {:.5f}\".format(SVM_poly_3_scaling.score(X_test, y_test)))\n",
    "print(\"Poly-3 (scaling + PCA): {:.5f}\".format(SVM_poly_3_scaling_PCA.score(X_test, y_test)))\n"
   ]
  },
  {
   "cell_type": "markdown",
   "metadata": {},
   "source": [
    "### Random Forest"
   ]
  },
  {
   "cell_type": "code",
   "execution_count": 10,
   "metadata": {},
   "outputs": [
    {
     "name": "stdout",
     "output_type": "stream",
     "text": [
      "Random Forest: 0.98305\n"
     ]
    }
   ],
   "source": [
    "#Bagging & RSM of decision trees\n",
    "from sklearn.ensemble import RandomForestClassifier\n",
    "\n",
    "#Model\n",
    "RF = RandomForestClassifier(n_estimators=50)\n",
    "\n",
    "#Fitting\n",
    "RF.fit(X_train, y_train)\n",
    "\n",
    "#Score\n",
    "print(\"Random Forest: {:.5f}\".format(RF.score(X_test, y_test)))\n"
   ]
  },
  {
   "cell_type": "markdown",
   "metadata": {},
   "source": [
    "### AdaBoost"
   ]
  },
  {
   "cell_type": "code",
   "execution_count": 11,
   "metadata": {},
   "outputs": [
    {
     "name": "stdout",
     "output_type": "stream",
     "text": [
      "AdaBoost\n",
      "\n",
      "Decision Tree: 0.89831\n",
      "SVM: 0.96610\n",
      "Naive Bayes: 0.94915\n"
     ]
    }
   ],
   "source": [
    "#Adaptive boosting\n",
    "from sklearn.ensemble import AdaBoostClassifier\n",
    "\n",
    "#Models\n",
    "Ada_DT = AdaBoostClassifier(base_estimator=DecisionTreeClassifier(), \n",
    "                            n_estimators=50)\n",
    "Ada_SVM = AdaBoostClassifier(base_estimator=SVC(kernel='linear'), \n",
    "                            n_estimators=50, algorithm='SAMME')\n",
    "Ada_NB = AdaBoostClassifier(base_estimator=GaussianNB(), \n",
    "                            n_estimators=50)\n",
    "\n",
    "#Fitting\n",
    "Ada_DT.fit(X_train, y_train)\n",
    "Ada_SVM.fit(X_train, y_train)\n",
    "Ada_NB.fit(X_train, y_train)\n",
    "\n",
    "#Score\n",
    "print(\"AdaBoost\\n\")\n",
    "print(\"Decision Tree: {:.5f}\".format(Ada_DT.score(X_test, y_test)))\n",
    "print(\"SVM: {:.5f}\".format(Ada_SVM.score(X_test, y_test)))\n",
    "print(\"Naive Bayes: {:.5f}\".format(Ada_NB.score(X_test, y_test)))"
   ]
  },
  {
   "cell_type": "markdown",
   "metadata": {},
   "source": [
    "### Gradient Boosting"
   ]
  },
  {
   "cell_type": "code",
   "execution_count": 12,
   "metadata": {},
   "outputs": [
    {
     "name": "stdout",
     "output_type": "stream",
     "text": [
      "Gradient Boosting: 0.91525\n"
     ]
    }
   ],
   "source": [
    "#Boosting of regression trees\n",
    "from sklearn.ensemble import GradientBoostingClassifier\n",
    "\n",
    "#Model\n",
    "GB = GradientBoostingClassifier(n_estimators=50)\n",
    "\n",
    "#Fitting\n",
    "GB.fit(X_train, y_train)\n",
    "\n",
    "#Score\n",
    "print(\"Gradient Boosting: {:.5f}\".format(GB.score(X_test, y_test)))"
   ]
  },
  {
   "cell_type": "markdown",
   "metadata": {},
   "source": [
    "### Voting Classifier"
   ]
  },
  {
   "cell_type": "code",
   "execution_count": 13,
   "metadata": {},
   "outputs": [
    {
     "name": "stdout",
     "output_type": "stream",
     "text": [
      "Voting Classifier: 0.91525\n"
     ]
    },
    {
     "name": "stderr",
     "output_type": "stream",
     "text": [
      "C:\\ProgramData\\Anaconda3\\envs\\tensorflow\\lib\\site-packages\\sklearn\\preprocessing\\label.py:151: DeprecationWarning: The truth value of an empty array is ambiguous. Returning False, but in future this will result in an error. Use `array.size > 0` to check that an array is not empty.\n",
      "  if diff:\n"
     ]
    }
   ],
   "source": [
    "from sklearn.ensemble import VotingClassifier\n",
    "\n",
    "#Models\n",
    "RF = RandomForestClassifier(n_estimators=50)\n",
    "GB = GradientBoostingClassifier(n_estimators=50)\n",
    "Ada = AdaBoostClassifier(base_estimator=DecisionTreeClassifier(), n_estimators=50)\n",
    "\n",
    "#Voting\n",
    "VC = VotingClassifier(estimators=[(\"RF\", RF), (\"GB\", GB), (\"Ada\", Ada)])\n",
    "\n",
    "#Fitting\n",
    "VC.fit(X_train, y_train)\n",
    "\n",
    "#Score\n",
    "print(\"Voting Classifier: {:.5f}\".format(VC.score(X_test, y_test)))"
   ]
  }
 ],
 "metadata": {
  "kernelspec": {
   "display_name": "Python 3",
   "language": "python",
   "name": "python3"
  },
  "language_info": {
   "codemirror_mode": {
    "name": "ipython",
    "version": 3
   },
   "file_extension": ".py",
   "mimetype": "text/x-python",
   "name": "python",
   "nbconvert_exporter": "python",
   "pygments_lexer": "ipython3",
   "version": "3.6.4"
  }
 },
 "nbformat": 4,
 "nbformat_minor": 2
}
